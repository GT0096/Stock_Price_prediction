{
 "cells": [
  {
   "cell_type": "markdown",
   "id": "fb5cb7e8",
   "metadata": {},
   "source": [
    "# <font color='Blue'> Task : Stock Market prediction Using Textual and Numerical Analysis.</font>"
   ]
  },
  {
   "cell_type": "markdown",
   "id": "70d0a25e",
   "metadata": {},
   "source": [
    "A stock is the small chunk of ownership in the company. The stock price of the company reflects the net evaluation of the company and also gives a little insight into its performance. These stocks are traded on exchanges and their prices are constantly changing due to their demand and supply in the market. If a stock is in high demand and low in supply i.e. more people want to buy it and fewer people are willing to sell it then the price for the stock will go up and similarly if the stock is in low demand and high on supply which means people more people are ready to sell it but fewer people are willing to buy it then its prices go down.\n",
    "\n",
    "The sudden increase in the demand for the stock can be due to various reasons including positive news about the company or an announcement from the company.\n"
   ]
  },
  {
   "cell_type": "markdown",
   "id": "ce98eecd",
   "metadata": {},
   "source": [
    "## <font color='green'>Content</Font>\n",
    "\n",
    "1) Important Libraries\n",
    "\n",
    "2) Importing Data\n",
    "\n",
    "3) Numerical Analysis\n",
    "\n",
    "4) Cleaning Text Data and extracting important information (Sentiment analysis).\n",
    "\n",
    "5) Preparing Data.\n",
    "\n",
    "6) Spliting Data.\n",
    "\n",
    "7) Training Model.\n",
    "\n",
    "8) Evaluating Model."
   ]
  },
  {
   "cell_type": "markdown",
   "id": "a989b3f3",
   "metadata": {},
   "source": [
    "# Imp. Libraries"
   ]
  },
  {
   "cell_type": "code",
   "execution_count": 1,
   "id": "aeb0aa1d",
   "metadata": {},
   "outputs": [],
   "source": [
    "import pandas as pd\n",
    "import numpy as np\n",
    "import nltk"
   ]
  },
  {
   "cell_type": "markdown",
   "id": "7152b58d",
   "metadata": {},
   "source": [
    "# Importing Data"
   ]
  },
  {
   "cell_type": "code",
   "execution_count": 2,
   "id": "5fb06194",
   "metadata": {},
   "outputs": [
    {
     "data": {
      "text/html": [
       "<div>\n",
       "<style scoped>\n",
       "    .dataframe tbody tr th:only-of-type {\n",
       "        vertical-align: middle;\n",
       "    }\n",
       "\n",
       "    .dataframe tbody tr th {\n",
       "        vertical-align: top;\n",
       "    }\n",
       "\n",
       "    .dataframe thead th {\n",
       "        text-align: right;\n",
       "    }\n",
       "</style>\n",
       "<table border=\"1\" class=\"dataframe\">\n",
       "  <thead>\n",
       "    <tr style=\"text-align: right;\">\n",
       "      <th></th>\n",
       "      <th>publish_date</th>\n",
       "      <th>headline_category</th>\n",
       "      <th>headline_text</th>\n",
       "    </tr>\n",
       "  </thead>\n",
       "  <tbody>\n",
       "    <tr>\n",
       "      <th>0</th>\n",
       "      <td>20010102</td>\n",
       "      <td>unknown</td>\n",
       "      <td>Status quo will not be disturbed at Ayodhya; s...</td>\n",
       "    </tr>\n",
       "    <tr>\n",
       "      <th>1</th>\n",
       "      <td>20010102</td>\n",
       "      <td>unknown</td>\n",
       "      <td>Fissures in Hurriyat over Pak visit</td>\n",
       "    </tr>\n",
       "    <tr>\n",
       "      <th>2</th>\n",
       "      <td>20010102</td>\n",
       "      <td>unknown</td>\n",
       "      <td>America's unwanted heading for India?</td>\n",
       "    </tr>\n",
       "    <tr>\n",
       "      <th>3</th>\n",
       "      <td>20010102</td>\n",
       "      <td>unknown</td>\n",
       "      <td>For bigwigs; it is destination Goa</td>\n",
       "    </tr>\n",
       "    <tr>\n",
       "      <th>4</th>\n",
       "      <td>20010102</td>\n",
       "      <td>unknown</td>\n",
       "      <td>Extra buses to clear tourist traffic</td>\n",
       "    </tr>\n",
       "  </tbody>\n",
       "</table>\n",
       "</div>"
      ],
      "text/plain": [
       "   publish_date headline_category  \\\n",
       "0      20010102           unknown   \n",
       "1      20010102           unknown   \n",
       "2      20010102           unknown   \n",
       "3      20010102           unknown   \n",
       "4      20010102           unknown   \n",
       "\n",
       "                                       headline_text  \n",
       "0  Status quo will not be disturbed at Ayodhya; s...  \n",
       "1                Fissures in Hurriyat over Pak visit  \n",
       "2              America's unwanted heading for India?  \n",
       "3                 For bigwigs; it is destination Goa  \n",
       "4               Extra buses to clear tourist traffic  "
      ]
     },
     "execution_count": 2,
     "metadata": {},
     "output_type": "execute_result"
    }
   ],
   "source": [
    "df1=pd.read_csv(r'india-news-headlines.csv')\n",
    "df1.head()"
   ]
  },
  {
   "cell_type": "code",
   "execution_count": 3,
   "id": "9cdec0d5",
   "metadata": {},
   "outputs": [
    {
     "data": {
      "text/html": [
       "<div>\n",
       "<style scoped>\n",
       "    .dataframe tbody tr th:only-of-type {\n",
       "        vertical-align: middle;\n",
       "    }\n",
       "\n",
       "    .dataframe tbody tr th {\n",
       "        vertical-align: top;\n",
       "    }\n",
       "\n",
       "    .dataframe thead th {\n",
       "        text-align: right;\n",
       "    }\n",
       "</style>\n",
       "<table border=\"1\" class=\"dataframe\">\n",
       "  <thead>\n",
       "    <tr style=\"text-align: right;\">\n",
       "      <th></th>\n",
       "      <th>High</th>\n",
       "      <th>Low</th>\n",
       "      <th>Open</th>\n",
       "      <th>Close</th>\n",
       "      <th>Volume</th>\n",
       "      <th>Adj Close</th>\n",
       "    </tr>\n",
       "    <tr>\n",
       "      <th>Date</th>\n",
       "      <th></th>\n",
       "      <th></th>\n",
       "      <th></th>\n",
       "      <th></th>\n",
       "      <th></th>\n",
       "      <th></th>\n",
       "    </tr>\n",
       "  </thead>\n",
       "  <tbody>\n",
       "    <tr>\n",
       "      <th>2015-01-02</th>\n",
       "      <td>27937.470703</td>\n",
       "      <td>27519.259766</td>\n",
       "      <td>27521.279297</td>\n",
       "      <td>27887.900391</td>\n",
       "      <td>7400.0</td>\n",
       "      <td>27887.900391</td>\n",
       "    </tr>\n",
       "    <tr>\n",
       "      <th>2015-01-05</th>\n",
       "      <td>28064.490234</td>\n",
       "      <td>27786.849609</td>\n",
       "      <td>27978.429688</td>\n",
       "      <td>27842.320312</td>\n",
       "      <td>9200.0</td>\n",
       "      <td>27842.320312</td>\n",
       "    </tr>\n",
       "    <tr>\n",
       "      <th>2015-01-06</th>\n",
       "      <td>27698.929688</td>\n",
       "      <td>26937.060547</td>\n",
       "      <td>27694.230469</td>\n",
       "      <td>26987.460938</td>\n",
       "      <td>14100.0</td>\n",
       "      <td>26987.460938</td>\n",
       "    </tr>\n",
       "    <tr>\n",
       "      <th>2015-01-07</th>\n",
       "      <td>27051.599609</td>\n",
       "      <td>26776.119141</td>\n",
       "      <td>26983.429688</td>\n",
       "      <td>26908.820312</td>\n",
       "      <td>12200.0</td>\n",
       "      <td>26908.820312</td>\n",
       "    </tr>\n",
       "    <tr>\n",
       "      <th>2015-01-08</th>\n",
       "      <td>27316.410156</td>\n",
       "      <td>27101.939453</td>\n",
       "      <td>27178.769531</td>\n",
       "      <td>27274.710938</td>\n",
       "      <td>8200.0</td>\n",
       "      <td>27274.710938</td>\n",
       "    </tr>\n",
       "  </tbody>\n",
       "</table>\n",
       "</div>"
      ],
      "text/plain": [
       "                    High           Low          Open         Close   Volume  \\\n",
       "Date                                                                          \n",
       "2015-01-02  27937.470703  27519.259766  27521.279297  27887.900391   7400.0   \n",
       "2015-01-05  28064.490234  27786.849609  27978.429688  27842.320312   9200.0   \n",
       "2015-01-06  27698.929688  26937.060547  27694.230469  26987.460938  14100.0   \n",
       "2015-01-07  27051.599609  26776.119141  26983.429688  26908.820312  12200.0   \n",
       "2015-01-08  27316.410156  27101.939453  27178.769531  27274.710938   8200.0   \n",
       "\n",
       "               Adj Close  \n",
       "Date                      \n",
       "2015-01-02  27887.900391  \n",
       "2015-01-05  27842.320312  \n",
       "2015-01-06  26987.460938  \n",
       "2015-01-07  26908.820312  \n",
       "2015-01-08  27274.710938  "
      ]
     },
     "execution_count": 3,
     "metadata": {},
     "output_type": "execute_result"
    }
   ],
   "source": [
    "import pandas_datareader as web\n",
    "df2=web.DataReader('^BSESN', data_source='yahoo', start='2015-01-01', end='2020-12-31')\n",
    "df2.head()"
   ]
  },
  {
   "cell_type": "code",
   "execution_count": 4,
   "id": "86c09ebe",
   "metadata": {
    "scrolled": true
   },
   "outputs": [
    {
     "name": "stdout",
     "output_type": "stream",
     "text": [
      "<class 'pandas.core.frame.DataFrame'>\n",
      "RangeIndex: 3424067 entries, 0 to 3424066\n",
      "Data columns (total 3 columns):\n",
      " #   Column             Dtype \n",
      "---  ------             ----- \n",
      " 0   publish_date       int64 \n",
      " 1   headline_category  object\n",
      " 2   headline_text      object\n",
      "dtypes: int64(1), object(2)\n",
      "memory usage: 78.4+ MB\n",
      "None\n",
      "<class 'pandas.core.frame.DataFrame'>\n",
      "DatetimeIndex: 1474 entries, 2015-01-02 to 2020-12-31\n",
      "Data columns (total 6 columns):\n",
      " #   Column     Non-Null Count  Dtype  \n",
      "---  ------     --------------  -----  \n",
      " 0   High       1474 non-null   float64\n",
      " 1   Low        1474 non-null   float64\n",
      " 2   Open       1474 non-null   float64\n",
      " 3   Close      1474 non-null   float64\n",
      " 4   Volume     1474 non-null   float64\n",
      " 5   Adj Close  1474 non-null   float64\n",
      "dtypes: float64(6)\n",
      "memory usage: 80.6 KB\n",
      "None\n"
     ]
    }
   ],
   "source": [
    "print(df1.info())\n",
    "print(df2.info())\n"
   ]
  },
  {
   "cell_type": "markdown",
   "id": "c4e19c52",
   "metadata": {},
   "source": [
    "# Visualization and Analysis on numerical Data."
   ]
  },
  {
   "cell_type": "code",
   "execution_count": 5,
   "id": "0f01bc34",
   "metadata": {},
   "outputs": [],
   "source": [
    "import matplotlib.pyplot as plt\n",
    "from pandas.plotting import scatter_matrix\n",
    "%matplotlib inline"
   ]
  },
  {
   "cell_type": "code",
   "execution_count": 6,
   "id": "14fba129",
   "metadata": {},
   "outputs": [
    {
     "data": {
      "text/plain": [
       "[<matplotlib.lines.Line2D at 0x7f10d7e892e0>]"
      ]
     },
     "execution_count": 6,
     "metadata": {},
     "output_type": "execute_result"
    },
    {
     "data": {
      "image/png": "[encoded data removed]",
      "text/plain": [
       "<Figure size 640x480 with 1 Axes>"
      ]
     },
     "metadata": {
      "needs_background": "light"
     },
     "output_type": "display_data"
    }
   ],
   "source": [
    "from matplotlib.pyplot import figure\n",
    "\n",
    "figure(figsize=(8, 6), dpi=80)\n",
    "# close Stock price\n",
    "plt.plot(df2['Close'])"
   ]
  },
  {
   "cell_type": "code",
   "execution_count": 7,
   "id": "12c6b8b7",
   "metadata": {},
   "outputs": [
    {
     "data": {
      "text/plain": [
       "<matplotlib.legend.Legend at 0x7f10d7dcce50>"
      ]
     },
     "execution_count": 7,
     "metadata": {},
     "output_type": "execute_result"
    },
    {
     "data": {
      "image/png": "[encoded data removed]",
      "text/plain": [
       "<Figure size 1080x504 with 1 Axes>"
      ]
     },
     "metadata": {
      "needs_background": "light"
     },
     "output_type": "display_data"
    }
   ],
   "source": [
    "# Volume\n",
    "df2['Volume'].plot(label = 'Stock', figsize = (15,7))\n",
    "plt.title('Volume of stock traders')\n",
    "plt.legend()"
   ]
  },
  {
   "cell_type": "code",
   "execution_count": 8,
   "id": "f26a0e44",
   "metadata": {},
   "outputs": [
    {
     "data": {
      "text/plain": [
       "<matplotlib.legend.Legend at 0x7f10d7e0e100>"
      ]
     },
     "execution_count": 8,
     "metadata": {},
     "output_type": "execute_result"
    },
    {
     "data": {
      "image/png": "[encoded data removed]",
      "text/plain": [
       "<Figure size 1080x504 with 1 Axes>"
      ]
     },
     "metadata": {
      "needs_background": "light"
     },
     "output_type": "display_data"
    }
   ],
   "source": [
    "#Market Capitalism\n",
    "df2['Market Capitalism']=df2['Open']*df2['Volume']\n",
    "df2['Market Capitalism'].plot(label='Market capilatism', figsize=(15,7))\n",
    "plt.legend()"
   ]
  },
  {
   "cell_type": "code",
   "execution_count": 9,
   "id": "e386fd8d",
   "metadata": {},
   "outputs": [
    {
     "data": {
      "text/plain": [
       "<AxesSubplot:xlabel='Date'>"
      ]
     },
     "execution_count": 9,
     "metadata": {},
     "output_type": "execute_result"
    },
    {
     "data": {
      "image/png": "[encoded data removed]",
      "text/plain": [
       "<Figure size 1080x504 with 1 Axes>"
      ]
     },
     "metadata": {
      "needs_background": "light"
     },
     "output_type": "display_data"
    }
   ],
   "source": [
    "#As we know the stock prices are highly volatile and prices change quickly with time. \n",
    "# To observe any trend or pattern we can take the help of a 50-day 200-day average\n",
    "df2['MA50'] = df2['Open'].rolling(50).mean()\n",
    "df2['MA200'] = df2['Open'].rolling(200).mean()\n",
    "df2['Open'].plot(figsize = (15,7))\n",
    "df2['MA50'].plot()\n",
    "df2['MA200'].plot()\n"
   ]
  },
  {
   "cell_type": "code",
   "execution_count": 10,
   "id": "28a2b6c9",
   "metadata": {},
   "outputs": [
    {
     "data": {
      "text/plain": [
       "<matplotlib.legend.Legend at 0x7f10d7cec850>"
      ]
     },
     "execution_count": 10,
     "metadata": {},
     "output_type": "execute_result"
    },
    {
     "data": {
      "image/png": "[encoded data removed]",
      "text/plain": [
       "<Figure size 1080x504 with 1 Axes>"
      ]
     },
     "metadata": {
      "needs_background": "light"
     },
     "output_type": "display_data"
    }
   ],
   "source": [
    "# returns\n",
    "df2['returns'] = (df2['Close']/df2['Close'].shift(1)) -1\n",
    "df2['returns'].hist(bins = 100, label = 'stock', alpha = 0.5, figsize = (15,7))\n",
    "plt.legend()"
   ]
  },
  {
   "cell_type": "code",
   "execution_count": 11,
   "id": "ee7c10eb",
   "metadata": {},
   "outputs": [
    {
     "data": {
      "text/plain": [
       "<AxesSubplot:xlabel='Date'>"
      ]
     },
     "execution_count": 11,
     "metadata": {},
     "output_type": "execute_result"
    },
    {
     "data": {
      "image/png": "[encoded data removed]",
      "text/plain": [
       "<Figure size 1080x504 with 1 Axes>"
      ]
     },
     "metadata": {
      "needs_background": "light"
     },
     "output_type": "display_data"
    }
   ],
   "source": [
    "# adj. Close\n",
    "df2['Adj Close'].plot(label = 'Adj lose', figsize = (15,7))"
   ]
  },
  {
   "cell_type": "code",
   "execution_count": 12,
   "id": "3570f256",
   "metadata": {},
   "outputs": [
    {
     "data": {
      "image/png": "[encoded data removed]",
      "text/plain": [
       "<Figure size 1080x504 with 1 Axes>"
      ]
     },
     "metadata": {
      "needs_background": "light"
     },
     "output_type": "display_data"
    },
    {
     "name": "stdout",
     "output_type": "stream",
     "text": [
      "Results of dickey fuller test\n",
      "Test Statistics                  -0.380649\n",
      "p-value                           0.913280\n",
      "No. of lags used                 12.000000\n",
      "Number of observations used    1461.000000\n",
      "critical value (1%)              -3.434834\n",
      "critical value (5%)              -2.863520\n",
      "critical value (10%)             -2.567824\n",
      "dtype: float64\n"
     ]
    }
   ],
   "source": [
    "from statsmodels.tsa.stattools import adfuller\n",
    "from statsmodels.tsa.seasonal import seasonal_decompose\n",
    "from statsmodels.tsa.arima_model import ARIMA\n",
    "\n",
    "#Test for staionarity\n",
    "def test_stationarity(timeseries):\n",
    "    #Determing rolling statistics\n",
    "    rolmean = timeseries.rolling(12).mean()\n",
    "    rolstd = timeseries.rolling(12).std()\n",
    "    #Plot rolling statistics:\n",
    "    plt.figure(figsize=(15,7))\n",
    "    plt.plot(timeseries, color='blue',label='Original')\n",
    "    plt.plot(rolmean, color='red', label='Rolling Mean')\n",
    "    plt.plot(rolstd, color='black', label = 'Rolling Std')\n",
    "    plt.legend(loc='best')\n",
    "    plt.title('Rolling Mean and Standard Deviation')\n",
    "    plt.show(block=False)\n",
    "    \n",
    "    print(\"Results of dickey fuller test\")\n",
    "    adft = adfuller(timeseries,autolag='AIC')\n",
    "    # output for dft will give us without defining what the values are.\n",
    "    #hence we manually write what values does it explains using a for loop\n",
    "    output = pd.Series(adft[0:4],index=['Test Statistics','p-value','No. of lags used','Number of observations used'])\n",
    "    for key,values in adft[4].items():\n",
    "        output['critical value (%s)'%key] =  values\n",
    "    print(output)\n",
    "    \n",
    "test_stationarity(df2.Close)"
   ]
  },
  {
   "cell_type": "markdown",
   "id": "8fb92337",
   "metadata": {},
   "source": [
    "#### Through the above graph, we can see the increasing mean and standard deviation and hence our series is not stationary.\n",
    "\n",
    "#### We see that the p-value is greater than 0.05 so we cannot reject the Null hypothesis. Also, the test statistics is greater than the critical values. so the data is non-stationary.\n",
    "\n",
    " "
   ]
  },
  {
   "cell_type": "code",
   "execution_count": 13,
   "id": "bd8b7884",
   "metadata": {
    "scrolled": true
   },
   "outputs": [
    {
     "name": "stderr",
     "output_type": "stream",
     "text": [
      "<ipython-input-13-329c9e6d0425>:2: FutureWarning: the 'freq'' keyword is deprecated, use 'period' instead\n",
      "  result = seasonal_decompose(df2.Close, model='multiplicative', freq = 30)\n"
     ]
    },
    {
     "data": {
      "text/plain": [
       "<Figure size 432x288 with 0 Axes>"
      ]
     },
     "metadata": {},
     "output_type": "display_data"
    },
    {
     "data": {
      "image/png": "[encoded data removed]",
      "text/plain": [
       "<Figure size 1152x648 with 4 Axes>"
      ]
     },
     "metadata": {
      "needs_background": "light"
     },
     "output_type": "display_data"
    }
   ],
   "source": [
    "# looking fOR ANY trend or Seasonal Variations.\n",
    "result = seasonal_decompose(df2.Close, model='multiplicative', freq = 30)\n",
    "fig = plt.figure()  \n",
    "fig = result.plot()  \n",
    "fig.set_size_inches(16, 9)\n"
   ]
  },
  {
   "cell_type": "markdown",
   "id": "f869a609",
   "metadata": {},
   "source": [
    "#  Cleaning Text Data and extracting important information (Sentiment analysis)."
   ]
  },
  {
   "cell_type": "code",
   "execution_count": 14,
   "id": "cc36fcc5",
   "metadata": {},
   "outputs": [],
   "source": [
    "df1['publish_date'] = pd.to_datetime(df1['publish_date'], format = '%Y%m%d')"
   ]
  },
  {
   "cell_type": "code",
   "execution_count": 15,
   "id": "13c8a8dd",
   "metadata": {},
   "outputs": [
    {
     "data": {
      "text/plain": [
       "array(['unknown', 'entertainment.hindi.bollywood', 'india', ...,\n",
       "       'elections.assembly-elections.bihar',\n",
       "       'astrology.horoscope.monthly', 'astrology.numerology-tarot'],\n",
       "      dtype=object)"
      ]
     },
     "execution_count": 15,
     "metadata": {},
     "output_type": "execute_result"
    }
   ],
   "source": [
    "df1['headline_category'].unique()"
   ]
  },
  {
   "cell_type": "code",
   "execution_count": 16,
   "id": "46a3e0a9",
   "metadata": {},
   "outputs": [
    {
     "data": {
      "text/plain": [
       "india                                            288541\n",
       "unknown                                          209582\n",
       "city.mumbai                                      134428\n",
       "city.delhi                                       127717\n",
       "business.india-business                          116761\n",
       "                                                  ...  \n",
       "2013-the-year-sachin-bids-adieu.football-2013         8\n",
       "pms-us-visit                                          8\n",
       "sports.hockey.hockey-india-league.interviews          8\n",
       "indias-vision                                         8\n",
       "business.faqs.gst-faqs                                8\n",
       "Name: headline_category, Length: 1013, dtype: int64"
      ]
     },
     "execution_count": 16,
     "metadata": {},
     "output_type": "execute_result"
    }
   ],
   "source": [
    "df1['headline_category'].value_counts()"
   ]
  },
  {
   "cell_type": "code",
   "execution_count": 17,
   "id": "3fc9e105",
   "metadata": {},
   "outputs": [
    {
     "data": {
      "text/plain": [
       "2014-10-10    706\n",
       "2014-12-21    706\n",
       "2014-12-15    706\n",
       "2014-10-11    705\n",
       "2014-11-09    705\n",
       "             ... \n",
       "2001-03-16      1\n",
       "2001-03-17      1\n",
       "2001-06-04      1\n",
       "2001-04-01      1\n",
       "2001-03-09      1\n",
       "Name: publish_date, Length: 7262, dtype: int64"
      ]
     },
     "execution_count": 17,
     "metadata": {},
     "output_type": "execute_result"
    }
   ],
   "source": [
    "df1['publish_date'].value_counts()"
   ]
  },
  {
   "cell_type": "code",
   "execution_count": 18,
   "id": "2b42495d",
   "metadata": {},
   "outputs": [
    {
     "data": {
      "text/plain": [
       "Straight Answers                                                     6723\n",
       "Cartoons                                                             1536\n",
       "Straight answers                                                     1500\n",
       "Photogallery                                                         1353\n",
       "Your say                                                             1012\n",
       "                                                                     ... \n",
       "Centre's pollution plan calls for stricter parking norms                1\n",
       "Lawyer Satish Sonak dies in court; funeral today                        1\n",
       "Despite glitches; joyriders flock to underground metro line             1\n",
       "70% of those involved in snatching this year first-timers: UT SSP       1\n",
       "72% Covid-19 patients recover in Bihar                                  1\n",
       "Name: headline_text, Length: 3168800, dtype: int64"
      ]
     },
     "execution_count": 18,
     "metadata": {},
     "output_type": "execute_result"
    }
   ],
   "source": [
    "df1['headline_text'].value_counts()"
   ]
  },
  {
   "cell_type": "code",
   "execution_count": 19,
   "id": "8bf4e4e4",
   "metadata": {},
   "outputs": [
    {
     "data": {
      "text/plain": [
       "publish_date         0\n",
       "headline_category    0\n",
       "headline_text        0\n",
       "dtype: int64"
      ]
     },
     "execution_count": 19,
     "metadata": {},
     "output_type": "execute_result"
    }
   ],
   "source": [
    "df1.isna().sum()"
   ]
  },
  {
   "cell_type": "code",
   "execution_count": 20,
   "id": "301d2794",
   "metadata": {},
   "outputs": [
    {
     "data": {
      "text/plain": [
       "3168800"
      ]
     },
     "execution_count": 20,
     "metadata": {},
     "output_type": "execute_result"
    }
   ],
   "source": [
    "df1['headline_text'].value_counts().count()"
   ]
  },
  {
   "cell_type": "code",
   "execution_count": 21,
   "id": "f8b942f5",
   "metadata": {},
   "outputs": [
    {
     "data": {
      "text/plain": [
       "24191"
      ]
     },
     "execution_count": 21,
     "metadata": {},
     "output_type": "execute_result"
    }
   ],
   "source": [
    "df1.duplicated().sum()"
   ]
  },
  {
   "cell_type": "code",
   "execution_count": 22,
   "id": "03c3ee06",
   "metadata": {},
   "outputs": [
    {
     "data": {
      "text/plain": [
       "46130"
      ]
     },
     "execution_count": 22,
     "metadata": {},
     "output_type": "execute_result"
    }
   ],
   "source": [
    "df1.duplicated(keep=False).sum()"
   ]
  },
  {
   "cell_type": "code",
   "execution_count": 23,
   "id": "ee8bbdaf",
   "metadata": {},
   "outputs": [],
   "source": [
    "cols = list(df1.columns)"
   ]
  },
  {
   "cell_type": "code",
   "execution_count": 24,
   "id": "4febd208",
   "metadata": {},
   "outputs": [],
   "source": [
    "df1.sort_values(by=cols, inplace=True, ignore_index=True)"
   ]
  },
  {
   "cell_type": "code",
   "execution_count": 25,
   "id": "a09efc46",
   "metadata": {},
   "outputs": [
    {
     "data": {
      "text/html": [
       "<div>\n",
       "<style scoped>\n",
       "    .dataframe tbody tr th:only-of-type {\n",
       "        vertical-align: middle;\n",
       "    }\n",
       "\n",
       "    .dataframe tbody tr th {\n",
       "        vertical-align: top;\n",
       "    }\n",
       "\n",
       "    .dataframe thead th {\n",
       "        text-align: right;\n",
       "    }\n",
       "</style>\n",
       "<table border=\"1\" class=\"dataframe\">\n",
       "  <thead>\n",
       "    <tr style=\"text-align: right;\">\n",
       "      <th></th>\n",
       "      <th>publish_date</th>\n",
       "      <th>headline_category</th>\n",
       "      <th>headline_text</th>\n",
       "    </tr>\n",
       "  </thead>\n",
       "  <tbody>\n",
       "    <tr>\n",
       "      <th>3</th>\n",
       "      <td>2001-01-02</td>\n",
       "      <td>unknown</td>\n",
       "      <td>America's unwanted heading for India?</td>\n",
       "    </tr>\n",
       "    <tr>\n",
       "      <th>4</th>\n",
       "      <td>2001-01-02</td>\n",
       "      <td>unknown</td>\n",
       "      <td>America's unwanted heading for India?</td>\n",
       "    </tr>\n",
       "    <tr>\n",
       "      <th>5</th>\n",
       "      <td>2001-01-02</td>\n",
       "      <td>unknown</td>\n",
       "      <td>America's unwanted heading for India?</td>\n",
       "    </tr>\n",
       "    <tr>\n",
       "      <th>6</th>\n",
       "      <td>2001-01-02</td>\n",
       "      <td>unknown</td>\n",
       "      <td>America's unwanted heading for India?</td>\n",
       "    </tr>\n",
       "    <tr>\n",
       "      <th>9</th>\n",
       "      <td>2001-01-02</td>\n",
       "      <td>unknown</td>\n",
       "      <td>BBC's reality TV will focus on AIIMS</td>\n",
       "    </tr>\n",
       "    <tr>\n",
       "      <th>...</th>\n",
       "      <td>...</td>\n",
       "      <td>...</td>\n",
       "      <td>...</td>\n",
       "    </tr>\n",
       "    <tr>\n",
       "      <th>3421893</th>\n",
       "      <td>2020-12-27</td>\n",
       "      <td>city.nagpur</td>\n",
       "      <td>Govt forcing helpless sr citizens to fight leg...</td>\n",
       "    </tr>\n",
       "    <tr>\n",
       "      <th>3422119</th>\n",
       "      <td>2020-12-28</td>\n",
       "      <td>city.bareilly</td>\n",
       "      <td>Rampur's Hunar Haat a platform for artisans fr...</td>\n",
       "    </tr>\n",
       "    <tr>\n",
       "      <th>3422120</th>\n",
       "      <td>2020-12-28</td>\n",
       "      <td>city.bareilly</td>\n",
       "      <td>Rampur's Hunar Haat a platform for artisans fr...</td>\n",
       "    </tr>\n",
       "    <tr>\n",
       "      <th>3422956</th>\n",
       "      <td>2020-12-29</td>\n",
       "      <td>city.pune</td>\n",
       "      <td>PMC to draft separate DP after 23 villages' me...</td>\n",
       "    </tr>\n",
       "    <tr>\n",
       "      <th>3422957</th>\n",
       "      <td>2020-12-29</td>\n",
       "      <td>city.pune</td>\n",
       "      <td>PMC to draft separate DP after 23 villages' me...</td>\n",
       "    </tr>\n",
       "  </tbody>\n",
       "</table>\n",
       "<p>46130 rows × 3 columns</p>\n",
       "</div>"
      ],
      "text/plain": [
       "        publish_date headline_category  \\\n",
       "3         2001-01-02           unknown   \n",
       "4         2001-01-02           unknown   \n",
       "5         2001-01-02           unknown   \n",
       "6         2001-01-02           unknown   \n",
       "9         2001-01-02           unknown   \n",
       "...              ...               ...   \n",
       "3421893   2020-12-27       city.nagpur   \n",
       "3422119   2020-12-28     city.bareilly   \n",
       "3422120   2020-12-28     city.bareilly   \n",
       "3422956   2020-12-29         city.pune   \n",
       "3422957   2020-12-29         city.pune   \n",
       "\n",
       "                                             headline_text  \n",
       "3                    America's unwanted heading for India?  \n",
       "4                    America's unwanted heading for India?  \n",
       "5                    America's unwanted heading for India?  \n",
       "6                    America's unwanted heading for India?  \n",
       "9                     BBC's reality TV will focus on AIIMS  \n",
       "...                                                    ...  \n",
       "3421893  Govt forcing helpless sr citizens to fight leg...  \n",
       "3422119  Rampur's Hunar Haat a platform for artisans fr...  \n",
       "3422120  Rampur's Hunar Haat a platform for artisans fr...  \n",
       "3422956  PMC to draft separate DP after 23 villages' me...  \n",
       "3422957  PMC to draft separate DP after 23 villages' me...  \n",
       "\n",
       "[46130 rows x 3 columns]"
      ]
     },
     "execution_count": 25,
     "metadata": {},
     "output_type": "execute_result"
    }
   ],
   "source": [
    "df1[df1.duplicated(keep=False)]"
   ]
  },
  {
   "cell_type": "code",
   "execution_count": 26,
   "id": "0cbb4d11",
   "metadata": {},
   "outputs": [],
   "source": [
    "df1.drop_duplicates(keep='last', inplace=True, ignore_index=True)"
   ]
  },
  {
   "cell_type": "code",
   "execution_count": 27,
   "id": "4295a7bc",
   "metadata": {},
   "outputs": [
    {
     "data": {
      "text/plain": [
       "0"
      ]
     },
     "execution_count": 27,
     "metadata": {},
     "output_type": "execute_result"
    }
   ],
   "source": [
    "df1.duplicated().sum()"
   ]
  },
  {
   "cell_type": "code",
   "execution_count": 28,
   "id": "fd2c6999",
   "metadata": {},
   "outputs": [],
   "source": [
    "from textblob import TextBlob"
   ]
  },
  {
   "cell_type": "code",
   "execution_count": 29,
   "id": "a6820d48",
   "metadata": {},
   "outputs": [],
   "source": [
    "lst = df1['publish_date'].value_counts().index.tolist()"
   ]
  },
  {
   "cell_type": "code",
   "execution_count": 30,
   "id": "a261bdee",
   "metadata": {},
   "outputs": [],
   "source": [
    "new = []\n",
    "for x in lst:\n",
    "    df = df1.loc[df1['publish_date'] == x]\n",
    "    headlinetext = ''\n",
    "    publishdate = str(x)\n",
    "    headlinetext = df['headline_text'].iloc[0]\n",
    "    for i in range(1 , len(df)):\n",
    "        headlinetext = headlinetext + '. '+ df['headline_text'].iloc[i]  \n",
    "    new.append(headlinetext)\n"
   ]
  },
  {
   "cell_type": "code",
   "execution_count": 31,
   "id": "c2ba1dc2",
   "metadata": {},
   "outputs": [],
   "source": [
    "newsdf = pd.DataFrame({'publish_date': lst, 'headline_text' : new})"
   ]
  },
  {
   "cell_type": "code",
   "execution_count": 32,
   "id": "092ccca6",
   "metadata": {},
   "outputs": [
    {
     "data": {
      "text/html": [
       "<div>\n",
       "<style scoped>\n",
       "    .dataframe tbody tr th:only-of-type {\n",
       "        vertical-align: middle;\n",
       "    }\n",
       "\n",
       "    .dataframe tbody tr th {\n",
       "        vertical-align: top;\n",
       "    }\n",
       "\n",
       "    .dataframe thead th {\n",
       "        text-align: right;\n",
       "    }\n",
       "</style>\n",
       "<table border=\"1\" class=\"dataframe\">\n",
       "  <thead>\n",
       "    <tr style=\"text-align: right;\">\n",
       "      <th></th>\n",
       "      <th>publish_date</th>\n",
       "      <th>headline_text</th>\n",
       "    </tr>\n",
       "  </thead>\n",
       "  <tbody>\n",
       "    <tr>\n",
       "      <th>0</th>\n",
       "      <td>2014-12-15</td>\n",
       "      <td>Golden Homes III. Golden Panorama. Hanging Gar...</td>\n",
       "    </tr>\n",
       "    <tr>\n",
       "      <th>1</th>\n",
       "      <td>2014-12-21</td>\n",
       "      <td>Eight companies add Rs 55;171 crore in m-cap; ...</td>\n",
       "    </tr>\n",
       "    <tr>\n",
       "      <th>2</th>\n",
       "      <td>2014-12-09</td>\n",
       "      <td>Audi-Vredestein driving experience. Benelli TN...</td>\n",
       "    </tr>\n",
       "    <tr>\n",
       "      <th>3</th>\n",
       "      <td>2014-11-29</td>\n",
       "      <td>6 CARE IPO merchant bankers fined Rs 1 crore. ...</td>\n",
       "    </tr>\n",
       "    <tr>\n",
       "      <th>4</th>\n",
       "      <td>2014-11-01</td>\n",
       "      <td>Chetan Bhagat: Cleanliness begins at home. Gau...</td>\n",
       "    </tr>\n",
       "  </tbody>\n",
       "</table>\n",
       "</div>"
      ],
      "text/plain": [
       "  publish_date                                      headline_text\n",
       "0   2014-12-15  Golden Homes III. Golden Panorama. Hanging Gar...\n",
       "1   2014-12-21  Eight companies add Rs 55;171 crore in m-cap; ...\n",
       "2   2014-12-09  Audi-Vredestein driving experience. Benelli TN...\n",
       "3   2014-11-29  6 CARE IPO merchant bankers fined Rs 1 crore. ...\n",
       "4   2014-11-01  Chetan Bhagat: Cleanliness begins at home. Gau..."
      ]
     },
     "execution_count": 32,
     "metadata": {},
     "output_type": "execute_result"
    }
   ],
   "source": [
    "newsdf.head()"
   ]
  },
  {
   "cell_type": "code",
   "execution_count": 33,
   "id": "853285d2",
   "metadata": {},
   "outputs": [],
   "source": [
    "newsdf.sort_values(by='publish_date', inplace=True, ignore_index=True)"
   ]
  },
  {
   "cell_type": "code",
   "execution_count": 34,
   "id": "136c3c85",
   "metadata": {},
   "outputs": [
    {
     "data": {
      "text/html": [
       "<div>\n",
       "<style scoped>\n",
       "    .dataframe tbody tr th:only-of-type {\n",
       "        vertical-align: middle;\n",
       "    }\n",
       "\n",
       "    .dataframe tbody tr th {\n",
       "        vertical-align: top;\n",
       "    }\n",
       "\n",
       "    .dataframe thead th {\n",
       "        text-align: right;\n",
       "    }\n",
       "</style>\n",
       "<table border=\"1\" class=\"dataframe\">\n",
       "  <thead>\n",
       "    <tr style=\"text-align: right;\">\n",
       "      <th></th>\n",
       "      <th>publish_date</th>\n",
       "      <th>headline_text</th>\n",
       "    </tr>\n",
       "  </thead>\n",
       "  <tbody>\n",
       "    <tr>\n",
       "      <th>0</th>\n",
       "      <td>2001-01-02</td>\n",
       "      <td>Raju Chacha. A noisy effort to spruce up Comme...</td>\n",
       "    </tr>\n",
       "    <tr>\n",
       "      <th>1</th>\n",
       "      <td>2001-01-03</td>\n",
       "      <td>'Devdas': Jinxed?. 10-year-old girl missing. 3...</td>\n",
       "    </tr>\n",
       "    <tr>\n",
       "      <th>2</th>\n",
       "      <td>2001-01-04</td>\n",
       "      <td>Car dealers caught in Bihar sales tax ruling. ...</td>\n",
       "    </tr>\n",
       "    <tr>\n",
       "      <th>3</th>\n",
       "      <td>2001-01-05</td>\n",
       "      <td>Nepal won't allow anti-India activities: Envoy...</td>\n",
       "    </tr>\n",
       "    <tr>\n",
       "      <th>4</th>\n",
       "      <td>2001-01-06</td>\n",
       "      <td>Anti-immigration think-tank berates Clinton re...</td>\n",
       "    </tr>\n",
       "  </tbody>\n",
       "</table>\n",
       "</div>"
      ],
      "text/plain": [
       "  publish_date                                      headline_text\n",
       "0   2001-01-02  Raju Chacha. A noisy effort to spruce up Comme...\n",
       "1   2001-01-03  'Devdas': Jinxed?. 10-year-old girl missing. 3...\n",
       "2   2001-01-04  Car dealers caught in Bihar sales tax ruling. ...\n",
       "3   2001-01-05  Nepal won't allow anti-India activities: Envoy...\n",
       "4   2001-01-06  Anti-immigration think-tank berates Clinton re..."
      ]
     },
     "execution_count": 34,
     "metadata": {},
     "output_type": "execute_result"
    }
   ],
   "source": [
    "newsdf.head()"
   ]
  },
  {
   "cell_type": "code",
   "execution_count": 35,
   "id": "8f367e46",
   "metadata": {},
   "outputs": [
    {
     "data": {
      "text/html": [
       "<div>\n",
       "<style scoped>\n",
       "    .dataframe tbody tr th:only-of-type {\n",
       "        vertical-align: middle;\n",
       "    }\n",
       "\n",
       "    .dataframe tbody tr th {\n",
       "        vertical-align: top;\n",
       "    }\n",
       "\n",
       "    .dataframe thead th {\n",
       "        text-align: right;\n",
       "    }\n",
       "</style>\n",
       "<table border=\"1\" class=\"dataframe\">\n",
       "  <thead>\n",
       "    <tr style=\"text-align: right;\">\n",
       "      <th></th>\n",
       "      <th>publish_date</th>\n",
       "      <th>headline_text</th>\n",
       "    </tr>\n",
       "  </thead>\n",
       "  <tbody>\n",
       "    <tr>\n",
       "      <th>7257</th>\n",
       "      <td>2020-12-27</td>\n",
       "      <td>Horoscope Today; 27 December 2020: Check astro...</td>\n",
       "    </tr>\n",
       "    <tr>\n",
       "      <th>7258</th>\n",
       "      <td>2020-12-28</td>\n",
       "      <td>Horoscope Today; 28 December 2020: Check astro...</td>\n",
       "    </tr>\n",
       "    <tr>\n",
       "      <th>7259</th>\n",
       "      <td>2020-12-29</td>\n",
       "      <td>Horoscope Today; 29 December 2020: Check astro...</td>\n",
       "    </tr>\n",
       "    <tr>\n",
       "      <th>7260</th>\n",
       "      <td>2020-12-30</td>\n",
       "      <td>Horoscope Today; 30 December 2020: Check astro...</td>\n",
       "    </tr>\n",
       "    <tr>\n",
       "      <th>7261</th>\n",
       "      <td>2020-12-31</td>\n",
       "      <td>Horoscope Today; 31 December 2020: Check astro...</td>\n",
       "    </tr>\n",
       "  </tbody>\n",
       "</table>\n",
       "</div>"
      ],
      "text/plain": [
       "     publish_date                                      headline_text\n",
       "7257   2020-12-27  Horoscope Today; 27 December 2020: Check astro...\n",
       "7258   2020-12-28  Horoscope Today; 28 December 2020: Check astro...\n",
       "7259   2020-12-29  Horoscope Today; 29 December 2020: Check astro...\n",
       "7260   2020-12-30  Horoscope Today; 30 December 2020: Check astro...\n",
       "7261   2020-12-31  Horoscope Today; 31 December 2020: Check astro..."
      ]
     },
     "execution_count": 35,
     "metadata": {},
     "output_type": "execute_result"
    }
   ],
   "source": [
    "newsdf.tail()"
   ]
  },
  {
   "cell_type": "code",
   "execution_count": 36,
   "id": "c17e15b0",
   "metadata": {},
   "outputs": [],
   "source": [
    "polarity = []\n",
    "subjectivity = []\n",
    "for idx, row in newsdf.iterrows():\n",
    "    polarity.append(TextBlob(row['headline_text']).sentiment[0])\n",
    "    subjectivity.append(TextBlob(row['headline_text']).sentiment[1])\n"
   ]
  },
  {
   "cell_type": "code",
   "execution_count": 37,
   "id": "ec151309",
   "metadata": {},
   "outputs": [],
   "source": [
    "newsdf['polarity'] = polarity\n",
    "newsdf['subjectivity'] = subjectivity"
   ]
  },
  {
   "cell_type": "code",
   "execution_count": 38,
   "id": "83c73522",
   "metadata": {},
   "outputs": [
    {
     "data": {
      "text/html": [
       "<div>\n",
       "<style scoped>\n",
       "    .dataframe tbody tr th:only-of-type {\n",
       "        vertical-align: middle;\n",
       "    }\n",
       "\n",
       "    .dataframe tbody tr th {\n",
       "        vertical-align: top;\n",
       "    }\n",
       "\n",
       "    .dataframe thead th {\n",
       "        text-align: right;\n",
       "    }\n",
       "</style>\n",
       "<table border=\"1\" class=\"dataframe\">\n",
       "  <thead>\n",
       "    <tr style=\"text-align: right;\">\n",
       "      <th></th>\n",
       "      <th>publish_date</th>\n",
       "      <th>headline_text</th>\n",
       "      <th>polarity</th>\n",
       "      <th>subjectivity</th>\n",
       "    </tr>\n",
       "  </thead>\n",
       "  <tbody>\n",
       "    <tr>\n",
       "      <th>0</th>\n",
       "      <td>2001-01-02</td>\n",
       "      <td>Raju Chacha. A noisy effort to spruce up Comme...</td>\n",
       "      <td>0.193519</td>\n",
       "      <td>0.293056</td>\n",
       "    </tr>\n",
       "    <tr>\n",
       "      <th>1</th>\n",
       "      <td>2001-01-03</td>\n",
       "      <td>'Devdas': Jinxed?. 10-year-old girl missing. 3...</td>\n",
       "      <td>0.088462</td>\n",
       "      <td>0.407692</td>\n",
       "    </tr>\n",
       "    <tr>\n",
       "      <th>2</th>\n",
       "      <td>2001-01-04</td>\n",
       "      <td>Car dealers caught in Bihar sales tax ruling. ...</td>\n",
       "      <td>0.091426</td>\n",
       "      <td>0.481895</td>\n",
       "    </tr>\n",
       "    <tr>\n",
       "      <th>3</th>\n",
       "      <td>2001-01-05</td>\n",
       "      <td>Nepal won't allow anti-India activities: Envoy...</td>\n",
       "      <td>0.257415</td>\n",
       "      <td>0.465542</td>\n",
       "    </tr>\n",
       "    <tr>\n",
       "      <th>4</th>\n",
       "      <td>2001-01-06</td>\n",
       "      <td>Anti-immigration think-tank berates Clinton re...</td>\n",
       "      <td>0.219481</td>\n",
       "      <td>0.464935</td>\n",
       "    </tr>\n",
       "  </tbody>\n",
       "</table>\n",
       "</div>"
      ],
      "text/plain": [
       "  publish_date                                      headline_text  polarity  \\\n",
       "0   2001-01-02  Raju Chacha. A noisy effort to spruce up Comme...  0.193519   \n",
       "1   2001-01-03  'Devdas': Jinxed?. 10-year-old girl missing. 3...  0.088462   \n",
       "2   2001-01-04  Car dealers caught in Bihar sales tax ruling. ...  0.091426   \n",
       "3   2001-01-05  Nepal won't allow anti-India activities: Envoy...  0.257415   \n",
       "4   2001-01-06  Anti-immigration think-tank berates Clinton re...  0.219481   \n",
       "\n",
       "   subjectivity  \n",
       "0      0.293056  \n",
       "1      0.407692  \n",
       "2      0.481895  \n",
       "3      0.465542  \n",
       "4      0.464935  "
      ]
     },
     "execution_count": 38,
     "metadata": {},
     "output_type": "execute_result"
    }
   ],
   "source": [
    "newsdf.head()"
   ]
  },
  {
   "cell_type": "code",
   "execution_count": 39,
   "id": "f01f7e74",
   "metadata": {},
   "outputs": [],
   "source": [
    "newsdf.rename(columns={'publish_date': 'Date'}, inplace = True)"
   ]
  },
  {
   "cell_type": "code",
   "execution_count": 40,
   "id": "a6c524ce",
   "metadata": {},
   "outputs": [],
   "source": [
    "newsdf = newsdf.filter(['Date', 'polarity', 'subjectivity'], axis=1)"
   ]
  },
  {
   "cell_type": "code",
   "execution_count": 41,
   "id": "f1f41df3",
   "metadata": {},
   "outputs": [
    {
     "data": {
      "text/plain": [
       "(7262, 3)"
      ]
     },
     "execution_count": 41,
     "metadata": {},
     "output_type": "execute_result"
    }
   ],
   "source": [
    "newsdf.shape"
   ]
  },
  {
   "cell_type": "code",
   "execution_count": 42,
   "id": "de411cdc",
   "metadata": {},
   "outputs": [
    {
     "data": {
      "text/plain": [
       "0"
      ]
     },
     "execution_count": 42,
     "metadata": {},
     "output_type": "execute_result"
    }
   ],
   "source": [
    "newsdf['Date'].duplicated().sum()"
   ]
  },
  {
   "cell_type": "code",
   "execution_count": 43,
   "id": "f1f28c9c",
   "metadata": {},
   "outputs": [
    {
     "data": {
      "text/plain": [
       "(1474, 10)"
      ]
     },
     "execution_count": 43,
     "metadata": {},
     "output_type": "execute_result"
    }
   ],
   "source": [
    "df2.shape"
   ]
  },
  {
   "cell_type": "code",
   "execution_count": 44,
   "id": "a64c225e",
   "metadata": {},
   "outputs": [
    {
     "data": {
      "text/html": [
       "<div>\n",
       "<style scoped>\n",
       "    .dataframe tbody tr th:only-of-type {\n",
       "        vertical-align: middle;\n",
       "    }\n",
       "\n",
       "    .dataframe tbody tr th {\n",
       "        vertical-align: top;\n",
       "    }\n",
       "\n",
       "    .dataframe thead th {\n",
       "        text-align: right;\n",
       "    }\n",
       "</style>\n",
       "<table border=\"1\" class=\"dataframe\">\n",
       "  <thead>\n",
       "    <tr style=\"text-align: right;\">\n",
       "      <th></th>\n",
       "      <th>Date</th>\n",
       "      <th>polarity</th>\n",
       "      <th>subjectivity</th>\n",
       "    </tr>\n",
       "  </thead>\n",
       "  <tbody>\n",
       "    <tr>\n",
       "      <th>0</th>\n",
       "      <td>2001-01-02</td>\n",
       "      <td>0.193519</td>\n",
       "      <td>0.293056</td>\n",
       "    </tr>\n",
       "    <tr>\n",
       "      <th>1</th>\n",
       "      <td>2001-01-03</td>\n",
       "      <td>0.088462</td>\n",
       "      <td>0.407692</td>\n",
       "    </tr>\n",
       "    <tr>\n",
       "      <th>2</th>\n",
       "      <td>2001-01-04</td>\n",
       "      <td>0.091426</td>\n",
       "      <td>0.481895</td>\n",
       "    </tr>\n",
       "    <tr>\n",
       "      <th>3</th>\n",
       "      <td>2001-01-05</td>\n",
       "      <td>0.257415</td>\n",
       "      <td>0.465542</td>\n",
       "    </tr>\n",
       "    <tr>\n",
       "      <th>4</th>\n",
       "      <td>2001-01-06</td>\n",
       "      <td>0.219481</td>\n",
       "      <td>0.464935</td>\n",
       "    </tr>\n",
       "  </tbody>\n",
       "</table>\n",
       "</div>"
      ],
      "text/plain": [
       "        Date  polarity  subjectivity\n",
       "0 2001-01-02  0.193519      0.293056\n",
       "1 2001-01-03  0.088462      0.407692\n",
       "2 2001-01-04  0.091426      0.481895\n",
       "3 2001-01-05  0.257415      0.465542\n",
       "4 2001-01-06  0.219481      0.464935"
      ]
     },
     "execution_count": 44,
     "metadata": {},
     "output_type": "execute_result"
    }
   ],
   "source": [
    "newsdf.head()"
   ]
  },
  {
   "cell_type": "code",
   "execution_count": 45,
   "id": "5cc76714",
   "metadata": {
    "scrolled": false
   },
   "outputs": [
    {
     "name": "stdout",
     "output_type": "stream",
     "text": [
      "<class 'pandas.core.frame.DataFrame'>\n",
      "RangeIndex: 7262 entries, 0 to 7261\n",
      "Data columns (total 3 columns):\n",
      " #   Column        Non-Null Count  Dtype         \n",
      "---  ------        --------------  -----         \n",
      " 0   Date          7262 non-null   datetime64[ns]\n",
      " 1   polarity      7262 non-null   float64       \n",
      " 2   subjectivity  7262 non-null   float64       \n",
      "dtypes: datetime64[ns](1), float64(2)\n",
      "memory usage: 170.3 KB\n"
     ]
    }
   ],
   "source": [
    "newsdf.info()"
   ]
  },
  {
   "cell_type": "markdown",
   "id": "5e49d226",
   "metadata": {},
   "source": [
    "# Preparing Data"
   ]
  },
  {
   "cell_type": "code",
   "execution_count": 46,
   "id": "79066f82",
   "metadata": {},
   "outputs": [],
   "source": [
    "df2.reset_index(inplace=True)"
   ]
  },
  {
   "cell_type": "code",
   "execution_count": 47,
   "id": "ae0294f6",
   "metadata": {},
   "outputs": [],
   "source": [
    "df2['Date'] = pd.to_datetime(df2['Date'])"
   ]
  },
  {
   "cell_type": "code",
   "execution_count": 48,
   "id": "f28b931e",
   "metadata": {},
   "outputs": [],
   "source": [
    "df2 = pd.merge(df2, newsdf)"
   ]
  },
  {
   "cell_type": "code",
   "execution_count": 49,
   "id": "170f6c53",
   "metadata": {},
   "outputs": [
    {
     "data": {
      "text/plain": [
       "(1474, 13)"
      ]
     },
     "execution_count": 49,
     "metadata": {},
     "output_type": "execute_result"
    }
   ],
   "source": [
    "df2.shape"
   ]
  },
  {
   "cell_type": "code",
   "execution_count": 50,
   "id": "ad6ad92b",
   "metadata": {
    "scrolled": true
   },
   "outputs": [
    {
     "data": {
      "text/html": [
       "<div>\n",
       "<style scoped>\n",
       "    .dataframe tbody tr th:only-of-type {\n",
       "        vertical-align: middle;\n",
       "    }\n",
       "\n",
       "    .dataframe tbody tr th {\n",
       "        vertical-align: top;\n",
       "    }\n",
       "\n",
       "    .dataframe thead th {\n",
       "        text-align: right;\n",
       "    }\n",
       "</style>\n",
       "<table border=\"1\" class=\"dataframe\">\n",
       "  <thead>\n",
       "    <tr style=\"text-align: right;\">\n",
       "      <th></th>\n",
       "      <th>Date</th>\n",
       "      <th>High</th>\n",
       "      <th>Low</th>\n",
       "      <th>Open</th>\n",
       "      <th>Close</th>\n",
       "      <th>Volume</th>\n",
       "      <th>Adj Close</th>\n",
       "      <th>Market Capitalism</th>\n",
       "      <th>MA50</th>\n",
       "      <th>MA200</th>\n",
       "      <th>returns</th>\n",
       "      <th>polarity</th>\n",
       "      <th>subjectivity</th>\n",
       "    </tr>\n",
       "  </thead>\n",
       "  <tbody>\n",
       "    <tr>\n",
       "      <th>0</th>\n",
       "      <td>2015-01-02</td>\n",
       "      <td>27937.470703</td>\n",
       "      <td>27519.259766</td>\n",
       "      <td>27521.279297</td>\n",
       "      <td>27887.900391</td>\n",
       "      <td>7400.0</td>\n",
       "      <td>27887.900391</td>\n",
       "      <td>2.036575e+08</td>\n",
       "      <td>NaN</td>\n",
       "      <td>NaN</td>\n",
       "      <td>NaN</td>\n",
       "      <td>0.055586</td>\n",
       "      <td>0.455251</td>\n",
       "    </tr>\n",
       "    <tr>\n",
       "      <th>1</th>\n",
       "      <td>2015-01-05</td>\n",
       "      <td>28064.490234</td>\n",
       "      <td>27786.849609</td>\n",
       "      <td>27978.429688</td>\n",
       "      <td>27842.320312</td>\n",
       "      <td>9200.0</td>\n",
       "      <td>27842.320312</td>\n",
       "      <td>2.574016e+08</td>\n",
       "      <td>NaN</td>\n",
       "      <td>NaN</td>\n",
       "      <td>-0.001634</td>\n",
       "      <td>0.100081</td>\n",
       "      <td>0.433132</td>\n",
       "    </tr>\n",
       "    <tr>\n",
       "      <th>2</th>\n",
       "      <td>2015-01-06</td>\n",
       "      <td>27698.929688</td>\n",
       "      <td>26937.060547</td>\n",
       "      <td>27694.230469</td>\n",
       "      <td>26987.460938</td>\n",
       "      <td>14100.0</td>\n",
       "      <td>26987.460938</td>\n",
       "      <td>3.904886e+08</td>\n",
       "      <td>NaN</td>\n",
       "      <td>NaN</td>\n",
       "      <td>-0.030704</td>\n",
       "      <td>0.055802</td>\n",
       "      <td>0.386579</td>\n",
       "    </tr>\n",
       "    <tr>\n",
       "      <th>3</th>\n",
       "      <td>2015-01-07</td>\n",
       "      <td>27051.599609</td>\n",
       "      <td>26776.119141</td>\n",
       "      <td>26983.429688</td>\n",
       "      <td>26908.820312</td>\n",
       "      <td>12200.0</td>\n",
       "      <td>26908.820312</td>\n",
       "      <td>3.291978e+08</td>\n",
       "      <td>NaN</td>\n",
       "      <td>NaN</td>\n",
       "      <td>-0.002914</td>\n",
       "      <td>0.034707</td>\n",
       "      <td>0.386916</td>\n",
       "    </tr>\n",
       "    <tr>\n",
       "      <th>4</th>\n",
       "      <td>2015-01-08</td>\n",
       "      <td>27316.410156</td>\n",
       "      <td>27101.939453</td>\n",
       "      <td>27178.769531</td>\n",
       "      <td>27274.710938</td>\n",
       "      <td>8200.0</td>\n",
       "      <td>27274.710938</td>\n",
       "      <td>2.228659e+08</td>\n",
       "      <td>NaN</td>\n",
       "      <td>NaN</td>\n",
       "      <td>0.013597</td>\n",
       "      <td>0.060173</td>\n",
       "      <td>0.408416</td>\n",
       "    </tr>\n",
       "  </tbody>\n",
       "</table>\n",
       "</div>"
      ],
      "text/plain": [
       "        Date          High           Low          Open         Close   Volume  \\\n",
       "0 2015-01-02  27937.470703  27519.259766  27521.279297  27887.900391   7400.0   \n",
       "1 2015-01-05  28064.490234  27786.849609  27978.429688  27842.320312   9200.0   \n",
       "2 2015-01-06  27698.929688  26937.060547  27694.230469  26987.460938  14100.0   \n",
       "3 2015-01-07  27051.599609  26776.119141  26983.429688  26908.820312  12200.0   \n",
       "4 2015-01-08  27316.410156  27101.939453  27178.769531  27274.710938   8200.0   \n",
       "\n",
       "      Adj Close  Market Capitalism  MA50  MA200   returns  polarity  \\\n",
       "0  27887.900391       2.036575e+08   NaN    NaN       NaN  0.055586   \n",
       "1  27842.320312       2.574016e+08   NaN    NaN -0.001634  0.100081   \n",
       "2  26987.460938       3.904886e+08   NaN    NaN -0.030704  0.055802   \n",
       "3  26908.820312       3.291978e+08   NaN    NaN -0.002914  0.034707   \n",
       "4  27274.710938       2.228659e+08   NaN    NaN  0.013597  0.060173   \n",
       "\n",
       "   subjectivity  \n",
       "0      0.455251  \n",
       "1      0.433132  \n",
       "2      0.386579  \n",
       "3      0.386916  \n",
       "4      0.408416  "
      ]
     },
     "execution_count": 50,
     "metadata": {},
     "output_type": "execute_result"
    }
   ],
   "source": [
    "df2.head()"
   ]
  },
  {
   "cell_type": "code",
   "execution_count": 51,
   "id": "154a9876",
   "metadata": {
    "scrolled": false
   },
   "outputs": [
    {
     "data": {
      "text/html": [
       "<div>\n",
       "<style scoped>\n",
       "    .dataframe tbody tr th:only-of-type {\n",
       "        vertical-align: middle;\n",
       "    }\n",
       "\n",
       "    .dataframe tbody tr th {\n",
       "        vertical-align: top;\n",
       "    }\n",
       "\n",
       "    .dataframe thead th {\n",
       "        text-align: right;\n",
       "    }\n",
       "</style>\n",
       "<table border=\"1\" class=\"dataframe\">\n",
       "  <thead>\n",
       "    <tr style=\"text-align: right;\">\n",
       "      <th></th>\n",
       "      <th>Date</th>\n",
       "      <th>High</th>\n",
       "      <th>Low</th>\n",
       "      <th>Open</th>\n",
       "      <th>Close</th>\n",
       "      <th>Volume</th>\n",
       "      <th>Adj Close</th>\n",
       "      <th>Market Capitalism</th>\n",
       "      <th>MA50</th>\n",
       "      <th>MA200</th>\n",
       "      <th>returns</th>\n",
       "      <th>polarity</th>\n",
       "      <th>subjectivity</th>\n",
       "    </tr>\n",
       "  </thead>\n",
       "  <tbody>\n",
       "    <tr>\n",
       "      <th>1469</th>\n",
       "      <td>2020-12-24</td>\n",
       "      <td>47053.398438</td>\n",
       "      <td>46539.019531</td>\n",
       "      <td>46743.488281</td>\n",
       "      <td>46973.539062</td>\n",
       "      <td>13700.0</td>\n",
       "      <td>46973.539062</td>\n",
       "      <td>6.403858e+08</td>\n",
       "      <td>43317.963359</td>\n",
       "      <td>37125.668574</td>\n",
       "      <td>0.011398</td>\n",
       "      <td>0.047936</td>\n",
       "      <td>0.390942</td>\n",
       "    </tr>\n",
       "    <tr>\n",
       "      <th>1470</th>\n",
       "      <td>2020-12-28</td>\n",
       "      <td>47406.718750</td>\n",
       "      <td>47148.238281</td>\n",
       "      <td>47153.589844</td>\n",
       "      <td>47353.750000</td>\n",
       "      <td>9600.0</td>\n",
       "      <td>47353.750000</td>\n",
       "      <td>4.526745e+08</td>\n",
       "      <td>43448.571328</td>\n",
       "      <td>37173.366719</td>\n",
       "      <td>0.008094</td>\n",
       "      <td>0.070784</td>\n",
       "      <td>0.414510</td>\n",
       "    </tr>\n",
       "    <tr>\n",
       "      <th>1471</th>\n",
       "      <td>2020-12-29</td>\n",
       "      <td>47714.550781</td>\n",
       "      <td>47361.898438</td>\n",
       "      <td>47466.621094</td>\n",
       "      <td>47613.078125</td>\n",
       "      <td>12800.0</td>\n",
       "      <td>47613.078125</td>\n",
       "      <td>6.075728e+08</td>\n",
       "      <td>43576.942734</td>\n",
       "      <td>37225.948828</td>\n",
       "      <td>0.005476</td>\n",
       "      <td>0.061175</td>\n",
       "      <td>0.424021</td>\n",
       "    </tr>\n",
       "    <tr>\n",
       "      <th>1472</th>\n",
       "      <td>2020-12-30</td>\n",
       "      <td>47807.851562</td>\n",
       "      <td>47358.359375</td>\n",
       "      <td>47789.031250</td>\n",
       "      <td>47746.218750</td>\n",
       "      <td>15600.0</td>\n",
       "      <td>47746.218750</td>\n",
       "      <td>7.455089e+08</td>\n",
       "      <td>43733.991172</td>\n",
       "      <td>37287.549492</td>\n",
       "      <td>0.002796</td>\n",
       "      <td>0.043919</td>\n",
       "      <td>0.441660</td>\n",
       "    </tr>\n",
       "    <tr>\n",
       "      <th>1473</th>\n",
       "      <td>2020-12-31</td>\n",
       "      <td>47896.968750</td>\n",
       "      <td>47602.121094</td>\n",
       "      <td>47753.109375</td>\n",
       "      <td>47751.328125</td>\n",
       "      <td>13900.0</td>\n",
       "      <td>47751.328125</td>\n",
       "      <td>6.637682e+08</td>\n",
       "      <td>43882.681953</td>\n",
       "      <td>37353.952539</td>\n",
       "      <td>0.000107</td>\n",
       "      <td>0.092529</td>\n",
       "      <td>0.406220</td>\n",
       "    </tr>\n",
       "  </tbody>\n",
       "</table>\n",
       "</div>"
      ],
      "text/plain": [
       "           Date          High           Low          Open         Close  \\\n",
       "1469 2020-12-24  47053.398438  46539.019531  46743.488281  46973.539062   \n",
       "1470 2020-12-28  47406.718750  47148.238281  47153.589844  47353.750000   \n",
       "1471 2020-12-29  47714.550781  47361.898438  47466.621094  47613.078125   \n",
       "1472 2020-12-30  47807.851562  47358.359375  47789.031250  47746.218750   \n",
       "1473 2020-12-31  47896.968750  47602.121094  47753.109375  47751.328125   \n",
       "\n",
       "       Volume     Adj Close  Market Capitalism          MA50         MA200  \\\n",
       "1469  13700.0  46973.539062       6.403858e+08  43317.963359  37125.668574   \n",
       "1470   9600.0  47353.750000       4.526745e+08  43448.571328  37173.366719   \n",
       "1471  12800.0  47613.078125       6.075728e+08  43576.942734  37225.948828   \n",
       "1472  15600.0  47746.218750       7.455089e+08  43733.991172  37287.549492   \n",
       "1473  13900.0  47751.328125       6.637682e+08  43882.681953  37353.952539   \n",
       "\n",
       "       returns  polarity  subjectivity  \n",
       "1469  0.011398  0.047936      0.390942  \n",
       "1470  0.008094  0.070784      0.414510  \n",
       "1471  0.005476  0.061175      0.424021  \n",
       "1472  0.002796  0.043919      0.441660  \n",
       "1473  0.000107  0.092529      0.406220  "
      ]
     },
     "execution_count": 51,
     "metadata": {},
     "output_type": "execute_result"
    }
   ],
   "source": [
    "df2.tail()"
   ]
  },
  {
   "cell_type": "code",
   "execution_count": 52,
   "id": "e6956016",
   "metadata": {},
   "outputs": [],
   "source": [
    "df2['MA50']=df2['MA50'].fillna(df2['MA50'].mean())"
   ]
  },
  {
   "cell_type": "code",
   "execution_count": 53,
   "id": "90364943",
   "metadata": {},
   "outputs": [],
   "source": [
    "df2['MA200']=df2['MA200'].fillna(df2['MA200'].mean())"
   ]
  },
  {
   "cell_type": "code",
   "execution_count": 54,
   "id": "f06e4c77",
   "metadata": {},
   "outputs": [],
   "source": [
    "df2['returns']=df2['returns'].fillna(df2['returns'].mean())"
   ]
  },
  {
   "cell_type": "code",
   "execution_count": 55,
   "id": "d2fc1b4e",
   "metadata": {
    "scrolled": true
   },
   "outputs": [
    {
     "data": {
      "text/html": [
       "<div>\n",
       "<style scoped>\n",
       "    .dataframe tbody tr th:only-of-type {\n",
       "        vertical-align: middle;\n",
       "    }\n",
       "\n",
       "    .dataframe tbody tr th {\n",
       "        vertical-align: top;\n",
       "    }\n",
       "\n",
       "    .dataframe thead th {\n",
       "        text-align: right;\n",
       "    }\n",
       "</style>\n",
       "<table border=\"1\" class=\"dataframe\">\n",
       "  <thead>\n",
       "    <tr style=\"text-align: right;\">\n",
       "      <th></th>\n",
       "      <th>Date</th>\n",
       "      <th>High</th>\n",
       "      <th>Low</th>\n",
       "      <th>Open</th>\n",
       "      <th>Close</th>\n",
       "      <th>Volume</th>\n",
       "      <th>Adj Close</th>\n",
       "      <th>Market Capitalism</th>\n",
       "      <th>MA50</th>\n",
       "      <th>MA200</th>\n",
       "      <th>returns</th>\n",
       "      <th>polarity</th>\n",
       "      <th>subjectivity</th>\n",
       "    </tr>\n",
       "  </thead>\n",
       "  <tbody>\n",
       "    <tr>\n",
       "      <th>0</th>\n",
       "      <td>2015-01-02</td>\n",
       "      <td>27937.470703</td>\n",
       "      <td>27519.259766</td>\n",
       "      <td>27521.279297</td>\n",
       "      <td>27887.900391</td>\n",
       "      <td>7400.0</td>\n",
       "      <td>27887.900391</td>\n",
       "      <td>2.036575e+08</td>\n",
       "      <td>32625.380641</td>\n",
       "      <td>32549.164463</td>\n",
       "      <td>0.000430</td>\n",
       "      <td>0.055586</td>\n",
       "      <td>0.455251</td>\n",
       "    </tr>\n",
       "    <tr>\n",
       "      <th>1</th>\n",
       "      <td>2015-01-05</td>\n",
       "      <td>28064.490234</td>\n",
       "      <td>27786.849609</td>\n",
       "      <td>27978.429688</td>\n",
       "      <td>27842.320312</td>\n",
       "      <td>9200.0</td>\n",
       "      <td>27842.320312</td>\n",
       "      <td>2.574016e+08</td>\n",
       "      <td>32625.380641</td>\n",
       "      <td>32549.164463</td>\n",
       "      <td>-0.001634</td>\n",
       "      <td>0.100081</td>\n",
       "      <td>0.433132</td>\n",
       "    </tr>\n",
       "    <tr>\n",
       "      <th>2</th>\n",
       "      <td>2015-01-06</td>\n",
       "      <td>27698.929688</td>\n",
       "      <td>26937.060547</td>\n",
       "      <td>27694.230469</td>\n",
       "      <td>26987.460938</td>\n",
       "      <td>14100.0</td>\n",
       "      <td>26987.460938</td>\n",
       "      <td>3.904886e+08</td>\n",
       "      <td>32625.380641</td>\n",
       "      <td>32549.164463</td>\n",
       "      <td>-0.030704</td>\n",
       "      <td>0.055802</td>\n",
       "      <td>0.386579</td>\n",
       "    </tr>\n",
       "    <tr>\n",
       "      <th>3</th>\n",
       "      <td>2015-01-07</td>\n",
       "      <td>27051.599609</td>\n",
       "      <td>26776.119141</td>\n",
       "      <td>26983.429688</td>\n",
       "      <td>26908.820312</td>\n",
       "      <td>12200.0</td>\n",
       "      <td>26908.820312</td>\n",
       "      <td>3.291978e+08</td>\n",
       "      <td>32625.380641</td>\n",
       "      <td>32549.164463</td>\n",
       "      <td>-0.002914</td>\n",
       "      <td>0.034707</td>\n",
       "      <td>0.386916</td>\n",
       "    </tr>\n",
       "    <tr>\n",
       "      <th>4</th>\n",
       "      <td>2015-01-08</td>\n",
       "      <td>27316.410156</td>\n",
       "      <td>27101.939453</td>\n",
       "      <td>27178.769531</td>\n",
       "      <td>27274.710938</td>\n",
       "      <td>8200.0</td>\n",
       "      <td>27274.710938</td>\n",
       "      <td>2.228659e+08</td>\n",
       "      <td>32625.380641</td>\n",
       "      <td>32549.164463</td>\n",
       "      <td>0.013597</td>\n",
       "      <td>0.060173</td>\n",
       "      <td>0.408416</td>\n",
       "    </tr>\n",
       "  </tbody>\n",
       "</table>\n",
       "</div>"
      ],
      "text/plain": [
       "        Date          High           Low          Open         Close   Volume  \\\n",
       "0 2015-01-02  27937.470703  27519.259766  27521.279297  27887.900391   7400.0   \n",
       "1 2015-01-05  28064.490234  27786.849609  27978.429688  27842.320312   9200.0   \n",
       "2 2015-01-06  27698.929688  26937.060547  27694.230469  26987.460938  14100.0   \n",
       "3 2015-01-07  27051.599609  26776.119141  26983.429688  26908.820312  12200.0   \n",
       "4 2015-01-08  27316.410156  27101.939453  27178.769531  27274.710938   8200.0   \n",
       "\n",
       "      Adj Close  Market Capitalism          MA50         MA200   returns  \\\n",
       "0  27887.900391       2.036575e+08  32625.380641  32549.164463  0.000430   \n",
       "1  27842.320312       2.574016e+08  32625.380641  32549.164463 -0.001634   \n",
       "2  26987.460938       3.904886e+08  32625.380641  32549.164463 -0.030704   \n",
       "3  26908.820312       3.291978e+08  32625.380641  32549.164463 -0.002914   \n",
       "4  27274.710938       2.228659e+08  32625.380641  32549.164463  0.013597   \n",
       "\n",
       "   polarity  subjectivity  \n",
       "0  0.055586      0.455251  \n",
       "1  0.100081      0.433132  \n",
       "2  0.055802      0.386579  \n",
       "3  0.034707      0.386916  \n",
       "4  0.060173      0.408416  "
      ]
     },
     "execution_count": 55,
     "metadata": {},
     "output_type": "execute_result"
    }
   ],
   "source": [
    "df2.head()"
   ]
  },
  {
   "cell_type": "code",
   "execution_count": 56,
   "id": "103d0411",
   "metadata": {},
   "outputs": [
    {
     "name": "stderr",
     "output_type": "stream",
     "text": [
      "<ipython-input-56-0d1581cda901>:4: FutureWarning: Series.dt.weekofyear and Series.dt.week have been deprecated.  Please use Series.dt.isocalendar().week instead.\n",
      "  df2[\"week\"] = df2['Date'].dt.week\n"
     ]
    }
   ],
   "source": [
    "df2[\"month\"] = df2['Date'].dt.month\n",
    "df2[\"day\"] = df2['Date'].dt.day\n",
    "df2[\"dayofweek\"] = df2['Date'].dt.dayofweek\n",
    "df2[\"week\"] = df2['Date'].dt.week"
   ]
  },
  {
   "cell_type": "code",
   "execution_count": 57,
   "id": "efe2f3de",
   "metadata": {
    "scrolled": false
   },
   "outputs": [
    {
     "data": {
      "text/html": [
       "<div>\n",
       "<style scoped>\n",
       "    .dataframe tbody tr th:only-of-type {\n",
       "        vertical-align: middle;\n",
       "    }\n",
       "\n",
       "    .dataframe tbody tr th {\n",
       "        vertical-align: top;\n",
       "    }\n",
       "\n",
       "    .dataframe thead th {\n",
       "        text-align: right;\n",
       "    }\n",
       "</style>\n",
       "<table border=\"1\" class=\"dataframe\">\n",
       "  <thead>\n",
       "    <tr style=\"text-align: right;\">\n",
       "      <th></th>\n",
       "      <th>Date</th>\n",
       "      <th>High</th>\n",
       "      <th>Low</th>\n",
       "      <th>Open</th>\n",
       "      <th>Close</th>\n",
       "      <th>Volume</th>\n",
       "      <th>Adj Close</th>\n",
       "      <th>Market Capitalism</th>\n",
       "      <th>MA50</th>\n",
       "      <th>MA200</th>\n",
       "      <th>returns</th>\n",
       "      <th>polarity</th>\n",
       "      <th>subjectivity</th>\n",
       "      <th>month</th>\n",
       "      <th>day</th>\n",
       "      <th>dayofweek</th>\n",
       "      <th>week</th>\n",
       "    </tr>\n",
       "  </thead>\n",
       "  <tbody>\n",
       "    <tr>\n",
       "      <th>0</th>\n",
       "      <td>2015-01-02</td>\n",
       "      <td>27937.470703</td>\n",
       "      <td>27519.259766</td>\n",
       "      <td>27521.279297</td>\n",
       "      <td>27887.900391</td>\n",
       "      <td>7400.0</td>\n",
       "      <td>27887.900391</td>\n",
       "      <td>2.036575e+08</td>\n",
       "      <td>32625.380641</td>\n",
       "      <td>32549.164463</td>\n",
       "      <td>0.000430</td>\n",
       "      <td>0.055586</td>\n",
       "      <td>0.455251</td>\n",
       "      <td>1</td>\n",
       "      <td>2</td>\n",
       "      <td>4</td>\n",
       "      <td>1</td>\n",
       "    </tr>\n",
       "    <tr>\n",
       "      <th>1</th>\n",
       "      <td>2015-01-05</td>\n",
       "      <td>28064.490234</td>\n",
       "      <td>27786.849609</td>\n",
       "      <td>27978.429688</td>\n",
       "      <td>27842.320312</td>\n",
       "      <td>9200.0</td>\n",
       "      <td>27842.320312</td>\n",
       "      <td>2.574016e+08</td>\n",
       "      <td>32625.380641</td>\n",
       "      <td>32549.164463</td>\n",
       "      <td>-0.001634</td>\n",
       "      <td>0.100081</td>\n",
       "      <td>0.433132</td>\n",
       "      <td>1</td>\n",
       "      <td>5</td>\n",
       "      <td>0</td>\n",
       "      <td>2</td>\n",
       "    </tr>\n",
       "    <tr>\n",
       "      <th>2</th>\n",
       "      <td>2015-01-06</td>\n",
       "      <td>27698.929688</td>\n",
       "      <td>26937.060547</td>\n",
       "      <td>27694.230469</td>\n",
       "      <td>26987.460938</td>\n",
       "      <td>14100.0</td>\n",
       "      <td>26987.460938</td>\n",
       "      <td>3.904886e+08</td>\n",
       "      <td>32625.380641</td>\n",
       "      <td>32549.164463</td>\n",
       "      <td>-0.030704</td>\n",
       "      <td>0.055802</td>\n",
       "      <td>0.386579</td>\n",
       "      <td>1</td>\n",
       "      <td>6</td>\n",
       "      <td>1</td>\n",
       "      <td>2</td>\n",
       "    </tr>\n",
       "    <tr>\n",
       "      <th>3</th>\n",
       "      <td>2015-01-07</td>\n",
       "      <td>27051.599609</td>\n",
       "      <td>26776.119141</td>\n",
       "      <td>26983.429688</td>\n",
       "      <td>26908.820312</td>\n",
       "      <td>12200.0</td>\n",
       "      <td>26908.820312</td>\n",
       "      <td>3.291978e+08</td>\n",
       "      <td>32625.380641</td>\n",
       "      <td>32549.164463</td>\n",
       "      <td>-0.002914</td>\n",
       "      <td>0.034707</td>\n",
       "      <td>0.386916</td>\n",
       "      <td>1</td>\n",
       "      <td>7</td>\n",
       "      <td>2</td>\n",
       "      <td>2</td>\n",
       "    </tr>\n",
       "    <tr>\n",
       "      <th>4</th>\n",
       "      <td>2015-01-08</td>\n",
       "      <td>27316.410156</td>\n",
       "      <td>27101.939453</td>\n",
       "      <td>27178.769531</td>\n",
       "      <td>27274.710938</td>\n",
       "      <td>8200.0</td>\n",
       "      <td>27274.710938</td>\n",
       "      <td>2.228659e+08</td>\n",
       "      <td>32625.380641</td>\n",
       "      <td>32549.164463</td>\n",
       "      <td>0.013597</td>\n",
       "      <td>0.060173</td>\n",
       "      <td>0.408416</td>\n",
       "      <td>1</td>\n",
       "      <td>8</td>\n",
       "      <td>3</td>\n",
       "      <td>2</td>\n",
       "    </tr>\n",
       "  </tbody>\n",
       "</table>\n",
       "</div>"
      ],
      "text/plain": [
       "        Date          High           Low          Open         Close   Volume  \\\n",
       "0 2015-01-02  27937.470703  27519.259766  27521.279297  27887.900391   7400.0   \n",
       "1 2015-01-05  28064.490234  27786.849609  27978.429688  27842.320312   9200.0   \n",
       "2 2015-01-06  27698.929688  26937.060547  27694.230469  26987.460938  14100.0   \n",
       "3 2015-01-07  27051.599609  26776.119141  26983.429688  26908.820312  12200.0   \n",
       "4 2015-01-08  27316.410156  27101.939453  27178.769531  27274.710938   8200.0   \n",
       "\n",
       "      Adj Close  Market Capitalism          MA50         MA200   returns  \\\n",
       "0  27887.900391       2.036575e+08  32625.380641  32549.164463  0.000430   \n",
       "1  27842.320312       2.574016e+08  32625.380641  32549.164463 -0.001634   \n",
       "2  26987.460938       3.904886e+08  32625.380641  32549.164463 -0.030704   \n",
       "3  26908.820312       3.291978e+08  32625.380641  32549.164463 -0.002914   \n",
       "4  27274.710938       2.228659e+08  32625.380641  32549.164463  0.013597   \n",
       "\n",
       "   polarity  subjectivity  month  day  dayofweek  week  \n",
       "0  0.055586      0.455251      1    2          4     1  \n",
       "1  0.100081      0.433132      1    5          0     2  \n",
       "2  0.055802      0.386579      1    6          1     2  \n",
       "3  0.034707      0.386916      1    7          2     2  \n",
       "4  0.060173      0.408416      1    8          3     2  "
      ]
     },
     "execution_count": 57,
     "metadata": {},
     "output_type": "execute_result"
    }
   ],
   "source": [
    "df2.head()"
   ]
  },
  {
   "cell_type": "code",
   "execution_count": 58,
   "id": "fc548ff8",
   "metadata": {},
   "outputs": [],
   "source": [
    "df3=df2.drop(['Date'], axis=1)"
   ]
  },
  {
   "cell_type": "markdown",
   "id": "0cc338dd",
   "metadata": {},
   "source": [
    "from sklearn.preprocessing import MinMaxScaler\n",
    "sc = MinMaxScaler()\n",
    "new_df = pd.DataFrame(sc.fit_transform(df3))\n",
    "new_df.columns = df3.columns\n",
    "new_df.index = df3.index\n",
    "new_df.head()"
   ]
  },
  {
   "cell_type": "code",
   "execution_count": 59,
   "id": "8d8a4907",
   "metadata": {},
   "outputs": [],
   "source": [
    "X = df3.drop('Close', axis=1)\n",
    "y =df3['Close']"
   ]
  },
  {
   "cell_type": "markdown",
   "id": "fccc31b9",
   "metadata": {},
   "source": [
    "#  Spliting Data"
   ]
  },
  {
   "cell_type": "code",
   "execution_count": 60,
   "id": "c0f6d11e",
   "metadata": {},
   "outputs": [
    {
     "data": {
      "text/plain": [
       "(1179, 15)"
      ]
     },
     "execution_count": 60,
     "metadata": {},
     "output_type": "execute_result"
    }
   ],
   "source": [
    "from sklearn.model_selection import train_test_split\n",
    "x_train, x_test, y_train, y_test = train_test_split(X, y, test_size=0.2, random_state = 0)\n",
    "x_train.shape"
   ]
  },
  {
   "cell_type": "markdown",
   "id": "91e59499",
   "metadata": {},
   "source": [
    "#  Training Data"
   ]
  },
  {
   "cell_type": "code",
   "execution_count": 61,
   "id": "97309060",
   "metadata": {},
   "outputs": [],
   "source": [
    "from sklearn.ensemble import RandomForestRegressor"
   ]
  },
  {
   "cell_type": "code",
   "execution_count": 62,
   "id": "42725477",
   "metadata": {},
   "outputs": [],
   "source": [
    "rfg = RandomForestRegressor(random_state = 42, n_estimators = 500, criterion='mse', max_depth = 30, min_samples_leaf=2, min_samples_split=5, n_jobs=1)"
   ]
  },
  {
   "cell_type": "code",
   "execution_count": 63,
   "id": "059c0be6",
   "metadata": {},
   "outputs": [],
   "source": [
    "rfg.fit(x_train, y_train)\n",
    "predictions = rfg.predict(x_test)"
   ]
  },
  {
   "cell_type": "markdown",
   "id": "c6382832",
   "metadata": {},
   "source": [
    "# Evaluating Model"
   ]
  },
  {
   "cell_type": "code",
   "execution_count": 64,
   "id": "8d5bf88f",
   "metadata": {},
   "outputs": [
    {
     "name": "stdout",
     "output_type": "stream",
     "text": [
      "4012.2737985478707\n"
     ]
    }
   ],
   "source": [
    "from sklearn.metrics import mean_squared_error\n",
    "from sklearn.metrics import r2_score\n",
    "print(mean_squared_error(predictions,y_test))"
   ]
  },
  {
   "cell_type": "code",
   "execution_count": 65,
   "id": "fd9ea7c6",
   "metadata": {},
   "outputs": [
    {
     "name": "stdout",
     "output_type": "stream",
     "text": [
      "0.9998607667607133\n"
     ]
    }
   ],
   "source": [
    "print(r2_score(predictions,y_test))"
   ]
  },
  {
   "cell_type": "code",
   "execution_count": 66,
   "id": "b922a1d3",
   "metadata": {},
   "outputs": [
    {
     "data": {
      "image/png": "[encoded data removed]",
      "text/plain": [
       "<Figure size 432x288 with 1 Axes>"
      ]
     },
     "metadata": {
      "needs_background": "light"
     },
     "output_type": "display_data"
    }
   ],
   "source": [
    "plt.scatter(predictions, y_test)\n",
    "plt.show()"
   ]
  },
  {
   "cell_type": "markdown",
   "id": "fd4256eb",
   "metadata": {},
   "source": [
    "# reference\n",
    "\n",
    "1) https://www.kdnuggets.com/2020/01/stock-market-forecasting-time-series-analysis.html\n",
    "\n",
    "2) https://www.investopedia.com/terms/n/null_hypothesis.asp\n",
    "\n",
    "3) https://www.kaggle.com/gauravduttakiit/stock-market-prediction-using-numerical-textual#Preparing-the-dataset-for-machine-learning\n",
    "\n",
    "4) https://www.analyticsvidhya.com/blog/2021/07/stock-prices-analysis-with-python/\n",
    "\n",
    "5) https://www.analyticsvidhya.com/blog/2021/05/know-the-best-evaluation-metrics-for-your-regression-model/\n"
   ]
  },
  {
   "cell_type": "code",
   "execution_count": null,
   "id": "ab4750bd",
   "metadata": {},
   "outputs": [],
   "source": []
  }
 ],
 "metadata": {
  "kernelspec": {
   "display_name": "Python 3",
   "language": "python",
   "name": "python3"
  },
  "language_info": {
   "codemirror_mode": {
    "name": "ipython",
    "version": 3
   },
   "file_extension": ".py",
   "mimetype": "text/x-python",
   "name": "python",
   "nbconvert_exporter": "python",
   "pygments_lexer": "ipython3",
   "version": "3.8.8"
  }
 },
 "nbformat": 4,
 "nbformat_minor": 5
}
